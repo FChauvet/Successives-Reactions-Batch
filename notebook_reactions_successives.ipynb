{
 "cells": [
  {
   "cell_type": "markdown",
   "id": "77fff22b-0255-4544-bed6-d767d190670b",
   "metadata": {},
   "source": [
    "# Modélisation de mécanismes réactionnels : cas des réactions successives\n",
    "\n",
    "Dans un réacteur batch (cuve) on suit la transformation chimique de l'espèce $A$ en l'espèce $B$ selon la réaction totale suivante :\n",
    "\\begin{equation}\n",
    "    A \\xrightarrow{k_1} B,\n",
    "\\end{equation}\n",
    "et $B$ se décompose également en une espèce $C$ selon la réaction totale :\n",
    "\\begin{equation}\n",
    "    B \\xrightarrow{k_2} C.\n",
    "\\end{equation}\n",
    "$k_1$ = 0,02 s$^{-1}$ et $k_2$ = 0,01 s$^{-1}$ sont les constantes de vitesse de ces réactions dans les conditions expérimentales.\n",
    "\n",
    "**On désire :**\n",
    "+ calculer numériquement l'évolution temporelle des concentrations en $A$, $B$ et $C$ : $c_A(t)$, $c_B(t)$, $c_C(t)$\n",
    "+ déterminer au bout de quelle durée de réaction $t_{max}$ la concentration en $B$ est maximale ${c_B}_{max}$.\n",
    "\n",
    "A l'aide de bilans matière et des expressions des lois de vitesse (en supposant des mécanismes simples), on établit les relations couplées suivantes :\n",
    "\n",
    "$\\frac{d c_A}{dt} = -k_1 c_A$\n",
    "\n",
    "$\\frac{d c_B}{dt} = k_1 c_A - k_2 c_B$\n",
    "\n",
    "$\\frac{d c_C}{dt} = k_2 c_B$\n",
    "\n",
    "associées aux conditions initiales :\n",
    "\n",
    "$c_A(0)$ = 1 mM\n",
    "\n",
    "$c_B(0)$ = 0\n",
    "\n",
    "$c_C(0)$ = 0\n",
    "\n",
    "**Nous allons calculer numériquement $c_A(t)$, $c_B(t)$ et $c_C(t)$ sur l'intervalle de temps [0, 650 s])**\n",
    "\n",
    "\n",
    "## Système d'ODE\n",
    "Pour cela on utilise la fonction odeint du module scipy.integrate. Cette fonction intègre des ODE de la forme :\n",
    "\\begin{equation}\n",
    "    \\frac{dY}{dt} = F(Y,t).\n",
    "\\end{equation}\n",
    "\n",
    "\n",
    "$Y$ peut être un vecteur, c'est à dire contenir plusieurs éléments. Autrement dit, l'équation précédente peut correspondre à plusieurs ODE couplées et **c'est justement le cas ici**.\n",
    "\n",
    "En fait le système d'équations à résoudre peut se mettre sous la forme :\n",
    "\n",
    "\\begin{align}\n",
    "     \\frac{d}{dt} & \\begin{bmatrix}  \n",
    "                        c_A \\\\            \n",
    "                        c_B \\\\            \n",
    "                        c_C               \n",
    "                     \\end{bmatrix} = \n",
    "                     \\begin{bmatrix}\n",
    "                         -k_1 c_A \\\\\n",
    "                         k_1 c_A - k_2 c_B \\\\\n",
    "                         k_2 c_B\n",
    "                     \\end{bmatrix}.\n",
    "\\end{align}\n",
    "\n",
    "En définissant le vecteur $Y$ comme :\n",
    "\\begin{align}\n",
    "     Y & = \\begin{bmatrix}  \n",
    "                        c_A \\\\            \n",
    "                        c_B \\\\            \n",
    "                        c_C               \n",
    "                     \\end{bmatrix}\n",
    "\\end{align}\n",
    "On peut ré-écrire le système des 3 équations sous la forme d'une seule équation :\n",
    "\\begin{equation}\n",
    "    \\frac{dY}{dt} = F(Y,t),\n",
    "\\end{equation}\n",
    "où $F$ est également un vecteur donné par :\n",
    "\\begin{align}\n",
    "     F & = \\begin{bmatrix}  \n",
    "                        -k_1 Y(1) \\\\            \n",
    "                        k_1 Y(1) - k_2 Y(2) \\\\            \n",
    "                        k_2 Y(2)               \n",
    "                     \\end{bmatrix},\n",
    "\\end{align}\n",
    "avec $Y(1) = c_A$, $Y(2) = c_B$ et $Y(3) = c_C$.\n",
    "\n",
    "La fonction odeint peut intégrer un tel système d'ODE, on pourra y faire appel une seule fois pour tout résoudre. Cependant, contrairement aux cas où il y a une seule équation à résoudre, il faudra faire passer correctement en argument, à odeint, **la fonction décrivant le système d'ODE** et **les conditions initiales**. "
   ]
  },
  {
   "cell_type": "markdown",
   "id": "693b358e-aea7-4d5c-9001-ac01c912b41b",
   "metadata": {},
   "source": [
    "# Définition de la fonction décrivant le système d'ODE\n",
    "\n",
    "+ le vecteur Y (qui comprendra 3 éléments)\n",
    "+ le temps t\n",
    "\n",
    "qui calcule les dérivées :\n",
    "+ $-k_1 c_A$ \n",
    "+ $k_1 c_A - k_2 c_B$\n",
    "+ $k_2 c_B$\n",
    "\n",
    "et qui renvoie ces 3 valeurs de dérivées\n",
    "\n"
   ]
  },
  {
   "cell_type": "code",
   "execution_count": 1,
   "id": "b8659ca4-26bf-4bfe-bb68-0e8c338bf1a9",
   "metadata": {},
   "outputs": [
    {
     "name": "stdout",
     "output_type": "stream",
     "text": [
      "dcAdt(0)= -0.02 mol/s/m^3\n",
      "dcBdt(0)= 0.02 mol/s/m^3\n",
      "dcCdt(0)= 0.0 mol/s/m^3\n"
     ]
    }
   ],
   "source": [
    "from pylab import *\n",
    "\n",
    "k1 = 0.02\n",
    "k2 = 0.01\n",
    "\n",
    "def dF(Y,t):\n",
    "    val1 = -k1*Y[0]\n",
    "    val2 = +k1*Y[0] - k2*Y[1]\n",
    "    val3 = +k2*Y[1]\n",
    "    return val1, val2, val3\n",
    "\n",
    "\n",
    "\n",
    "Y0 = array([1,0,0])\n",
    "dY0 = dF(Y0,0)\n",
    "\n",
    "print(\"dcAdt(0)=\",dY0[0],'mol/s/m^3')\n",
    "print(\"dcBdt(0)=\",dY0[1],'mol/s/m^3')\n",
    "print(\"dcCdt(0)=\",dY0[2],'mol/s/m^3')"
   ]
  },
  {
   "cell_type": "markdown",
   "id": "d2a490f2-bbd2-483d-bca0-9655faa16229",
   "metadata": {},
   "source": [
    "# Utilisation de odeint et représentation des résultats\n",
    "**Utiliser odeint** avec la fonction que vous avez créée pour résoudre le systéme d'équations et obtenir $c_A(t)$, $c_B(t)$ et $c_C(t)$ sur l'interavalle de temps [0, 2000 s].\n",
    "\n",
    "Petites précisions :\n",
    "+ Les 3 conditions initiales doivent être passées en argument à odeint sous forme d'une liste (ou d'un tableau)\n",
    "+ La variable renvoyée par odeint (résutlat du calcul) est un tableau, pour accéder au premier élément de $Y$, il faudra sélectionner la première colonne de ce tableau.\n",
    "\n",
    "**Sur une même figure**, tracer $c_A(t)$, $c_B(t)$ et $c_C(t)$, y inclure une légende et les noms des axes \n",
    "\n",
    "**Déterminer les valeurs de $t_{max}$ et ${c_B}_{max}$** et les représenter sur la figure.\n",
    "\n",
    "**Rajouter le tracé** de la quantité $c_A(t)+ c_B(t)+c_C(t)$, pour vérifier que la résolution numérique est conservative."
   ]
  },
  {
   "cell_type": "code",
   "execution_count": 2,
   "id": "abffe5fb-af89-4c6b-ade3-c9fc3b65f22f",
   "metadata": {},
   "outputs": [
    {
     "name": "stdout",
     "output_type": "stream",
     "text": [
      "tmax = 69.30386077215444\n",
      "cb_max = 0.4999999996023026\n"
     ]
    },
    {
     "data": {
      "text/plain": [
       "<matplotlib.legend.Legend at 0x148712c30>"
      ]
     },
     "execution_count": 2,
     "metadata": {},
     "output_type": "execute_result"
    },
    {
     "data": {
      "image/png": "[encoded data removed]",
      "text/plain": [
       "<Figure size 640x480 with 1 Axes>"
      ]
     },
     "metadata": {},
     "output_type": "display_data"
    }
   ],
   "source": [
    "from scipy.integrate import odeint\n",
    "\n",
    "t_ = linspace(0,650,5000)\n",
    "sol = odeint(dF,[1,0,0],t_)\n",
    "\n",
    "ca = sol[:,0]\n",
    "cb = sol[:,1]\n",
    "cc = sol[:,2]\n",
    "\n",
    "i = argmax(cb)\n",
    "t_max = t_[i]\n",
    "cb_max = cb[i]\n",
    "print(\"tmax =\", t_max )\n",
    "print(\"cb_max =\", cb_max )\n",
    "\n",
    "figure()\n",
    "plot(t_,ca,label=\"cA\",linewidth=4)\n",
    "plot(t_,cb,label=\"cB\",linewidth=4)\n",
    "plot(t_,cc,label=\"cC\",linewidth=4)\n",
    "plot([t_max, t_max],[0,cb_max],'r--')\n",
    "plot([0, t_max],[cb_max, cb_max],'r--')\n",
    "plot(t_,ca+cb+cc,label=\"cA+cB+cC\")\n",
    "xlabel('t (s)')\n",
    "ylabel('c (mM)')\n",
    "legend()"
   ]
  },
  {
   "cell_type": "code",
   "execution_count": 4,
   "id": "93716cee-6bcf-4a9d-be02-f66371a1e684",
   "metadata": {},
   "outputs": [
    {
     "name": "stdout",
     "output_type": "stream",
     "text": [
      "tmax= 69.31471805599453\n"
     ]
    }
   ],
   "source": [
    "# verif formule tmax\n",
    "print('tmax=', log(k1/k2)/(k1-k2))"
   ]
  }
 ],
 "metadata": {
  "kernelspec": {
   "display_name": "Python 3 (ipykernel)",
   "language": "python",
   "name": "python3"
  },
  "language_info": {
   "codemirror_mode": {
    "name": "ipython",
    "version": 3
   },
   "file_extension": ".py",
   "mimetype": "text/x-python",
   "name": "python",
   "nbconvert_exporter": "python",
   "pygments_lexer": "ipython3",
   "version": "3.12.0"
  }
 },
 "nbformat": 4,
 "nbformat_minor": 5
}
